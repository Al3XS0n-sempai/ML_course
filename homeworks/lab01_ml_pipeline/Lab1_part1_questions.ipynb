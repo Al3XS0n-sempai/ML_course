{
  "cells": [
    {
      "cell_type": "markdown",
      "metadata": {
        "id": "X9ORPRpP7vw0"
      },
      "source": [
        "*Credits: materials from this notebook belong to YSDA [Practical DL](https://github.com/yandexdataschool/Practical_DL) course. Special thanks for making them available online.*"
      ]
    },
    {
      "cell_type": "markdown",
      "metadata": {
        "id": "jeSTCLfe7vw1"
      },
      "source": [
        "# Lab assignment №1, part 1\n",
        "\n",
        "This lab assignment consists of several parts. You are supposed to make some transformations, train some models, estimate the quality of the models and explain your results.\n",
        "\n",
        "Several comments:\n",
        "* Don't hesitate to ask questions, it's a good practice.\n",
        "* No private/public sharing, please. The copied assignments will be graded with 0 points.\n",
        "* Blocks of this lab will be graded separately."
      ]
    },
    {
      "cell_type": "markdown",
      "metadata": {
        "id": "DR_ZX_cl7vw3"
      },
      "source": [
        "## 1. Matrix differentiation"
      ]
    },
    {
      "cell_type": "markdown",
      "metadata": {
        "id": "MGET-BIH7vw3"
      },
      "source": [
        "Since it easy to google every task please please please try to undestand what's going on. The \"just answer\" thing will be not counted, make sure to present derivation of your solution. It is absolutely OK if you found an answer on web then just exercise in $\\LaTeX$ copying it into here."
      ]
    },
    {
      "cell_type": "markdown",
      "metadata": {
        "id": "S6JMYbEX7vw4"
      },
      "source": [
        "Useful links: \n",
        "[1](http://www.machinelearning.ru/wiki/images/2/2a/Matrix-Gauss.pdf)\n",
        "[2](http://www.atmos.washington.edu/~dennis/MatrixCalculus.pdf)"
      ]
    },
    {
      "cell_type": "markdown",
      "metadata": {
        "id": "JNiUxcaH7vw4"
      },
      "source": [
        "## ex. 1"
      ]
    },
    {
      "cell_type": "markdown",
      "metadata": {
        "id": "3ahD7K7K7vw5"
      },
      "source": [
        "$$  \n",
        "y = x^Tx,  \\quad x \\in \\mathbb{R}^N \n",
        "$$"
      ]
    },
    {
      "cell_type": "markdown",
      "metadata": {
        "id": "WVpGnwl57vw5"
      },
      "source": [
        "\n",
        "$$\n",
        "\\frac{dy}{dx} = \n",
        "$$ "
      ]
    },
    {
      "cell_type": "markdown",
      "source": [
        "**Solution**:  \n",
        "Let's $x$ be $(x_1, \\ldots, x_n)^T$ then $x^Tx$ is a dot product of vectors x and x. Then $\\frac{dy}{dx}=\\frac{d(x^Tx)}{dx}=\\frac{d(x_1^2+\\dots+x_n^2)}{dx}=(\\frac{x_1^2+\\ldots+x_n^2}{dx_1}, \\ldots, \\frac{x_1^2+\\ldots+x_n^2}{dx_n})=(2x_1, \\ldots, 2x_n)=2x^T$"
      ],
      "metadata": {
        "id": "e9NqQ3wZA_Ev"
      }
    },
    {
      "cell_type": "markdown",
      "metadata": {
        "id": "Sp1OcbUY7vw7"
      },
      "source": [
        "## ex. 2"
      ]
    },
    {
      "cell_type": "markdown",
      "metadata": {
        "id": "e498WXFE7vw7"
      },
      "source": [
        "$$ y = tr(AB) \\quad A,B \\in \\mathbb{R}^{N \\times N} $$ "
      ]
    },
    {
      "cell_type": "markdown",
      "metadata": {
        "id": "b3deXc1X7vw8"
      },
      "source": [
        "$$\n",
        "\\frac{dy}{dA} =\n",
        "$$"
      ]
    },
    {
      "cell_type": "markdown",
      "source": [
        "**Solution**:\n",
        "\\begin{equation*}\n",
        "  \\frac{dy}{dA}=\\frac{tr(AB)}{dA}=\\frac{\\sum_{i=1}^{n}\\sum_{j=1}^{n}a_{ij}b_{ji}}{dA}=B^T\n",
        "\\end{equation*}\n",
        "We also can see that:\n",
        "\\begin{equation*}\n",
        "  \\frac{dy}{dB}=\\frac{tr(AB)}{dB}=\\frac{\\sum_{i=1}^{n}\\sum_{j=1}^{n}a_{ij}b_{ji}}{dB}=\\frac{\\sum_{i=1}^{n}\\sum_{j=1}^{n}a_{ji}b_{ij}}{dB}=A^T\n",
        "\\end{equation*}"
      ],
      "metadata": {
        "id": "pHRNQcKaCUhF"
      }
    },
    {
      "cell_type": "markdown",
      "metadata": {
        "id": "eGDiWIoJ7vw8"
      },
      "source": [
        "## ex. 3"
      ]
    },
    {
      "cell_type": "markdown",
      "metadata": {
        "id": "egIIn5sP7vw8"
      },
      "source": [
        "$$  \n",
        "y = x^TAc , \\quad A\\in \\mathbb{R}^{N \\times N}, x\\in \\mathbb{R}^{N}, c\\in \\mathbb{R}^{N} \n",
        "$$"
      ]
    },
    {
      "cell_type": "markdown",
      "metadata": {
        "id": "GN56Ayjt7vw9"
      },
      "source": [
        "$$\n",
        "\\frac{dy}{dx} =\n",
        "$$"
      ]
    },
    {
      "cell_type": "markdown",
      "metadata": {
        "id": "qEmYVJwe7vw9"
      },
      "source": [
        "$$\n",
        "\\frac{dy}{dA} =\n",
        "$$ "
      ]
    },
    {
      "cell_type": "markdown",
      "metadata": {
        "id": "uIoDagTN7vw9"
      },
      "source": [
        "Hint for the latter (one of the ways): use *ex. 2* result and the fact \n",
        "$$\n",
        "tr(ABC) = tr (CAB)\n",
        "$$"
      ]
    },
    {
      "cell_type": "markdown",
      "source": [
        "**Solution**:  \n",
        "1)  \n",
        "\\begin{equation*}\n",
        "  \\frac{dy}{dx}=\\frac{dx^tAc}{dx}=\\frac{d\\sum_{i=1}^{n}c_i(\\sum_{j=1}^{n}x_ja_{ji})}{dx}=\\frac{d\\sum_{i=1}^{n}\\sum_{j=1}^{n}x_jc_ia_{ji}}{dx}\n",
        "\\end{equation*}\n",
        "Let's consider for $x_i$:\n",
        "\\begin{equation*}\n",
        "  \\frac{\\partial\\sum_{j=1}^{n}x_ic_ja_{ij}}{\\partial x_i}=\\sum_{j=1}^{n}c_ja_{ij}\n",
        "\\end{equation*}\n",
        "Then:\n",
        "\\begin{equation*}\n",
        "  \\frac{dy}{dx} = (Ac)^T\n",
        "\\end{equation*}\n",
        "2) As $y$ is a scalar, then $y=tr(y)$:\n",
        "\\begin{equation*}\n",
        "  \\frac{dy}{dA}=\\frac{dtr(y)}{dA}=\\frac{dtr(x^TAc)}{dA}=\\frac{dtr(cx^TA)}{dA}=\\textrm{from ex.2}=(cx^T)^T=xc^T\n",
        "\\end{equation*}"
      ],
      "metadata": {
        "id": "k3JZGsDKEUky"
      }
    },
    {
      "cell_type": "markdown",
      "metadata": {
        "id": "0ijhRZWl7vw-"
      },
      "source": [
        "## ex. 4"
      ]
    },
    {
      "cell_type": "markdown",
      "metadata": {
        "id": "nEbrHpJB7vw-"
      },
      "source": [
        "Classic matrix factorization example. Given matrix $X$ you need to find $A$, $S$ to approximate $X$. This can be done by simple gradient descent iteratively alternating $A$ and $S$ updates.\n",
        "$$\n",
        "J = || X - AS ||_F^2  , \\quad A\\in \\mathbb{R}^{N \\times R} , \\quad S\\in \\mathbb{R}^{R \\times M}\n",
        "$$\n",
        "$$\n",
        "\\frac{dJ}{dS} = ? \n",
        "$$\n",
        "\n",
        "You may use one of the following approaches:"
      ]
    },
    {
      "cell_type": "markdown",
      "metadata": {
        "id": "ShZCEEn97vw-"
      },
      "source": [
        "#### First approach\n",
        "Using ex.2 and the fact:\n",
        "$$\n",
        "|| X ||_F^2 = tr(XX^T) \n",
        "$$ \n",
        "it is easy to derive gradients (you can find it in one of the refs). "
      ]
    },
    {
      "cell_type": "markdown",
      "metadata": {
        "id": "n0XVuVEK7vw-"
      },
      "source": [
        "#### Second approach\n",
        "You can use *slightly different techniques* if they suits you. Take a look at this derivation:\n",
        "<img src=\"https://github.com/girafe-ai/ml-course/blob/22f_basic/homeworks/lab01_ml_pipeline/grad.png?raw=1\">\n",
        "(excerpt from [Handbook of blind source separation, Jutten, page 517](https://books.google.ru/books?id=PTbj03bYH6kC&printsec=frontcover&dq=Handbook+of+Blind+Source+Separation&hl=en&sa=X&ved=0ahUKEwi-q_apiJDLAhULvXIKHVXJDWcQ6AEIHDAA#v=onepage&q=Handbook%20of%20Blind%20Source%20Separation&f=false), open for better picture)."
      ]
    },
    {
      "cell_type": "markdown",
      "metadata": {
        "id": "VN0IbfXl7vw_"
      },
      "source": [
        "#### Third approach\n",
        "And finally we can use chain rule! \n",
        "let $ F = AS $ \n",
        "\n",
        "**Find**\n",
        "$$\n",
        "\\frac{dJ}{dF} =  \n",
        "$$ \n",
        "and \n",
        "$$\n",
        "\\frac{dF}{dS} =  \n",
        "$$ \n",
        "(the shape should be $ NM \\times RM )$.\n",
        "\n",
        "Now it is easy do get desired gradients:\n",
        "$$\n",
        "\\frac{dJ}{dS} =  \n",
        "$$ "
      ]
    },
    {
      "cell_type": "markdown",
      "source": [
        "**Solution**:  \n",
        "Let's use first approach:\n",
        "\\begin{equation*}\n",
        "  \\frac{dJ}{dS}=\\frac{d|| X - AS ||_F^2}{dS} = \\frac{dtr((X-AS)(X-AS)^T)}{dS}=\n",
        "\\end{equation*}\n",
        "\\begin{align*}\n",
        "  =&\\frac{dtr(XX^T-XS^TA^T-ASX^T+ASS^TA^T)}{dS}=\\newline\n",
        "  =&\\frac{dtr(XX^T)}{dS}-\\frac{dtr(XS^TA^T)}{dS}-\\frac{dtr(ASX^T)}{dS}+\\frac{dtr(ASS^TA^T)}{dS}\\newline\n",
        "  =&0-A^TX-A^TX+2A^TAS=2A^TAS-2A^TX\n",
        "\\end{align*}"
      ],
      "metadata": {
        "id": "iSQWBZiePh_c"
      }
    },
    {
      "cell_type": "markdown",
      "metadata": {
        "collapsed": true,
        "jupyter": {
          "outputs_hidden": true
        },
        "id": "QSAfWXFV7vw_"
      },
      "source": [
        "## 2. kNN questions\n",
        "Here come the questions from the assignment0_01. Please, refer to the assignment0_01 to get the context of the questions."
      ]
    },
    {
      "cell_type": "markdown",
      "metadata": {
        "id": "mHBrjbjy7vw_"
      },
      "source": [
        "### Question 1\n",
        "\n",
        "Notice the structured patterns in the distance matrix, where some rows or columns are visible brighter. (Note that with the default color scheme black indicates low distances while white indicates high distances.)\n",
        "\n",
        "- What in the data is the cause behind the distinctly bright rows?\n",
        "- What causes the columns?\n",
        "\n",
        "*Your Answer:* Distinctly bright rows - вроде это данные в тестовом наборе которые максимально удалены от всех категорий в обучающем наборе, то есть это те данные которые отличаются от других.  \n",
        "Distinctly bright columns - это скорее всего наоборот данные в обучающем наборе сильно удаленные от данных в тестовом, т.к. скорее всего там не встречаются.\n",
        "\n",
        "\n"
      ]
    },
    {
      "cell_type": "markdown",
      "metadata": {
        "id": "NdbXJhqM7vw_"
      },
      "source": [
        "### Question 2\n",
        "\n",
        "We can also use other distance metrics such as L1 distance.\n",
        "For pixel values $p_{ij}^{(k)}$ at location $(i,j)$ of some image $I_k$, \n",
        "\n",
        "the mean $\\mu$ across all pixels over all images is $$\\mu=\\frac{1}{nhw}\\sum_{k=1}^n\\sum_{i=1}^{h}\\sum_{j=1}^{w}p_{ij}^{(k)}$$\n",
        "And the pixel-wise mean $\\mu_{ij}$ across all images is \n",
        "$$\\mu_{ij}=\\frac{1}{n}\\sum_{k=1}^np_{ij}^{(k)}.$$\n",
        "The general standard deviation $\\sigma$ and pixel-wise standard deviation $\\sigma_{ij}$ is defined similarly.\n",
        "\n",
        "Which of the following preprocessing steps will not change the performance of a Nearest Neighbor classifier that uses L1 distance? Select all that apply.\n",
        "1. Subtracting the mean $\\mu$ ($\\tilde{p}_{ij}^{(k)}=p_{ij}^{(k)}-\\mu$.)\n",
        "2. Subtracting the per pixel mean $\\mu_{ij}$  ($\\tilde{p}_{ij}^{(k)}=p_{ij}^{(k)}-\\mu_{ij}$.)\n",
        "3. Subtracting the mean $\\mu$ and dividing by the standard deviation $\\sigma$.\n",
        "4. Subtracting the pixel-wise mean $\\mu_{ij}$ and dividing by the pixel-wise standard deviation $\\sigma_{ij}$.\n",
        "5. Rotating the coordinate axes of the data.\n",
        "\n",
        "*Your Answer:*  \n",
        "1) Не повлияет, т.к. для каждого пикселя просто вычтется одно и тоже число.  \n",
        "2) Не повлияет, т.к. это не повлияет на расстояния(оно будет scale'тся на $\\sigma$).  \n",
        "3) Не повлияет, причина та же что и в 1), на каждый пиксель мы действуем одинаково.      \n",
        "4) Повлияет, т.к. в зависимости от значения $\\sigma_{ij}$ влияение будет разным.  \n",
        "5) Повлияет, т.к. это изменит L1 расстояния\n",
        "\n",
        "\n",
        "*Your Explanation:* Написал выше\n",
        "\n"
      ]
    },
    {
      "cell_type": "markdown",
      "metadata": {
        "id": "C9lROP0U7vxA"
      },
      "source": [
        "## Question 3\n",
        "\n",
        "Which of the following statements about $k$-Nearest Neighbor ($k$-NN) are true in a classification setting, and for all $k$? Select all that apply.\n",
        "1. The decision boundary (hyperplane between classes in feature space) of the k-NN classifier is linear.\n",
        "2. The training error of a 1-NN will always be lower than that of 5-NN.\n",
        "3. The test error of a 1-NN will always be lower than that of a 5-NN.\n",
        "4. The time needed to classify a test example with the k-NN classifier grows with the size of the training set.\n",
        "5. None of the above.\n",
        "\n",
        "*Your Answer:*  \n",
        "1) Нет  \n",
        "2) Да, т.к. для самый ближайший сосед в обучающем наборе это сама точка  \n",
        "3) Нет, точность knn на тестовом наборе не линейна, то есть с увеличением k точность может как повышаться так и понижатся. Поэтому мы ищем оптимальное значение k(например можно кросс-валидацией)  \n",
        "4) По идее в среднем да, т.к. для валидации knn ищет как ни страно k ближайших соседей по обучающей выборке, поэтому (если искать их просто перебором) время класификации должно увеличиваться(не уичтываю какой-то возможный препроцессинг)    \n",
        "\n",
        "\n",
        "*Your Explanation:* Написал выше\n",
        "\n",
        "\n"
      ]
    }
  ],
  "metadata": {
    "kernelspec": {
      "display_name": "mipt",
      "language": "python",
      "name": "mipt"
    },
    "language_info": {
      "codemirror_mode": {
        "name": "ipython",
        "version": 3
      },
      "file_extension": ".py",
      "mimetype": "text/x-python",
      "name": "python",
      "nbconvert_exporter": "python",
      "pygments_lexer": "ipython3",
      "version": "3.9.5"
    },
    "colab": {
      "provenance": []
    }
  },
  "nbformat": 4,
  "nbformat_minor": 0
}